{
 "cells": [
  {
   "cell_type": "code",
   "execution_count": 5,
   "metadata": {},
   "outputs": [
    {
     "name": "stderr",
     "output_type": "stream",
     "text": [
      "/var/folders/fy/24mx9qd52k1_m_0h1slpd0yc0000gq/T/ipykernel_24090/183472560.py:15: UserWarning: pandas only supports SQLAlchemy connectable (engine/connection) or database string URI or sqlite3 DBAPI2 connection. Other DBAPI2 objects are not tested. Please consider using SQLAlchemy.\n",
      "  df = pd.read_sql_query(import_db, conn)\n"
     ]
    }
   ],
   "source": [
    "import pandas as pd \n",
    "import psycopg2\n",
    "\n",
    "\n",
    "conn = psycopg2.connect(\n",
    "    user = 'postgres',\n",
    "    password = 'gagll1i1', \n",
    "    host = 'localhost', \n",
    "    port = '5432', \n",
    "    database = 'yaencontre'\n",
    ")\n",
    "conn.autocommit = True\n",
    "\n",
    "import_db = 'SELECT * FROM information'\n",
    "df = pd.read_sql_query(import_db, conn)"
   ]
  },
  {
   "cell_type": "code",
   "execution_count": 6,
   "metadata": {},
   "outputs": [
    {
     "data": {
      "text/plain": [
       "operation\n",
       "BUY     21401\n",
       "RENT    13696\n",
       "Name: count, dtype: int64"
      ]
     },
     "execution_count": 6,
     "metadata": {},
     "output_type": "execute_result"
    }
   ],
   "source": [
    "df.operation.value_counts()"
   ]
  }
 ],
 "metadata": {
  "kernelspec": {
   "display_name": "Python 3",
   "language": "python",
   "name": "python3"
  },
  "language_info": {
   "codemirror_mode": {
    "name": "ipython",
    "version": 3
   },
   "file_extension": ".py",
   "mimetype": "text/x-python",
   "name": "python",
   "nbconvert_exporter": "python",
   "pygments_lexer": "ipython3",
   "version": "3.11.6"
  }
 },
 "nbformat": 4,
 "nbformat_minor": 2
}
